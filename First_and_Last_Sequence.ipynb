{
  "nbformat": 4,
  "nbformat_minor": 0,
  "metadata": {
    "colab": {
      "provenance": []
    },
    "kernelspec": {
      "name": "python3",
      "display_name": "Python 3"
    },
    "language_info": {
      "name": "python"
    }
  },
  "cells": [
    {
      "cell_type": "code",
      "execution_count": 1,
      "metadata": {
        "id": "_W81i4sGtzbr"
      },
      "outputs": [],
      "source": [
        "def first_last(sequence):\n",
        "  return sequence[0] + sequence[-1]"
      ]
    },
    {
      "cell_type": "code",
      "source": [
        "first_last(('a','b','c'))"
      ],
      "metadata": {
        "colab": {
          "base_uri": "https://localhost:8080/",
          "height": 35
        },
        "id": "OMFA6yf0vbDj",
        "outputId": "15a1dd3c-997a-41ad-db7d-e81fd5a3c2d1"
      },
      "execution_count": 2,
      "outputs": [
        {
          "output_type": "execute_result",
          "data": {
            "text/plain": [
              "'ac'"
            ],
            "application/vnd.google.colaboratory.intrinsic+json": {
              "type": "string"
            }
          },
          "metadata": {},
          "execution_count": 2
        }
      ]
    },
    {
      "cell_type": "code",
      "source": [
        "first_last('abc')"
      ],
      "metadata": {
        "colab": {
          "base_uri": "https://localhost:8080/",
          "height": 35
        },
        "id": "nh1T6Sq1vhm3",
        "outputId": "82e2bf6d-763b-4958-f6f3-9140b0bc8d2c"
      },
      "execution_count": 3,
      "outputs": [
        {
          "output_type": "execute_result",
          "data": {
            "text/plain": [
              "'ac'"
            ],
            "application/vnd.google.colaboratory.intrinsic+json": {
              "type": "string"
            }
          },
          "metadata": {},
          "execution_count": 3
        }
      ]
    },
    {
      "cell_type": "markdown",
      "source": [
        "BASIC LEVEL CODE"
      ],
      "metadata": {
        "id": "GSpdA5W1vo4d"
      }
    },
    {
      "cell_type": "code",
      "source": [
        "def first_last(sequence):\n",
        "  if isinstance(sequence,(str,list,tuple)):\n",
        "    if isinstance(sequence,str):\n",
        "      return sequence[0]+sequence[-1]\n",
        "    elif isinstance(sequence,list):\n",
        "      return [sequence[0],sequence[-1]]\n",
        "    else:\n",
        "      return (sequence[0],sequence[-1])\n",
        "  else:\n",
        "    raise ValueError(\"Input shoud be a string, tuple or list\")"
      ],
      "metadata": {
        "id": "kZKgyoUavkon"
      },
      "execution_count": 4,
      "outputs": []
    },
    {
      "cell_type": "code",
      "source": [
        "first_last([1,2,3,4])"
      ],
      "metadata": {
        "colab": {
          "base_uri": "https://localhost:8080/"
        },
        "id": "0f1dGLVXwAjZ",
        "outputId": "17a8772f-643f-4430-c3c2-608f8d5cd174"
      },
      "execution_count": 5,
      "outputs": [
        {
          "output_type": "execute_result",
          "data": {
            "text/plain": [
              "[1, 4]"
            ]
          },
          "metadata": {},
          "execution_count": 5
        }
      ]
    },
    {
      "cell_type": "markdown",
      "source": [
        "ADVANCED LEVEL CODE"
      ],
      "metadata": {
        "id": "IOXuSMUox1Kw"
      }
    },
    {
      "cell_type": "code",
      "source": [
        "def firsht_lasht(sequence):\n",
        "  return sequence[:1] + sequence[-1:]"
      ],
      "metadata": {
        "id": "O20V9IslxyT7"
      },
      "execution_count": 6,
      "outputs": []
    },
    {
      "cell_type": "code",
      "source": [
        "firsht_lasht([1,2,3,4])"
      ],
      "metadata": {
        "colab": {
          "base_uri": "https://localhost:8080/"
        },
        "id": "3hsI2tr-x-LM",
        "outputId": "15c03c61-2c32-41b0-c5bc-c90097938564"
      },
      "execution_count": 7,
      "outputs": [
        {
          "output_type": "execute_result",
          "data": {
            "text/plain": [
              "[1, 4]"
            ]
          },
          "metadata": {},
          "execution_count": 7
        }
      ]
    },
    {
      "cell_type": "code",
      "source": [
        "firsht_lasht((1,2,3,4))"
      ],
      "metadata": {
        "colab": {
          "base_uri": "https://localhost:8080/"
        },
        "id": "2DusNcl3yDo0",
        "outputId": "fe41872a-4870-47b9-f9df-89b3a6e33cb5"
      },
      "execution_count": 8,
      "outputs": [
        {
          "output_type": "execute_result",
          "data": {
            "text/plain": [
              "(1, 4)"
            ]
          },
          "metadata": {},
          "execution_count": 8
        }
      ]
    },
    {
      "cell_type": "code",
      "source": [
        "firsht_lasht('abc')"
      ],
      "metadata": {
        "colab": {
          "base_uri": "https://localhost:8080/",
          "height": 35
        },
        "id": "vuxOup2-yIPE",
        "outputId": "22859481-b566-462e-b583-65b25412eaf2"
      },
      "execution_count": 9,
      "outputs": [
        {
          "output_type": "execute_result",
          "data": {
            "text/plain": [
              "'ac'"
            ],
            "application/vnd.google.colaboratory.intrinsic+json": {
              "type": "string"
            }
          },
          "metadata": {},
          "execution_count": 9
        }
      ]
    },
    {
      "cell_type": "code",
      "source": [
        "def largest_element(sequence):\n",
        "  return max(sequence)"
      ],
      "metadata": {
        "id": "DNCrB66UyOgs"
      },
      "execution_count": 10,
      "outputs": []
    },
    {
      "cell_type": "code",
      "source": [
        "largest_element('abcdefg')"
      ],
      "metadata": {
        "colab": {
          "base_uri": "https://localhost:8080/",
          "height": 35
        },
        "id": "mUjRZcY20VfY",
        "outputId": "1a2402a0-5162-4271-aa7e-7ef7c3581c94"
      },
      "execution_count": 11,
      "outputs": [
        {
          "output_type": "execute_result",
          "data": {
            "text/plain": [
              "'g'"
            ],
            "application/vnd.google.colaboratory.intrinsic+json": {
              "type": "string"
            }
          },
          "metadata": {},
          "execution_count": 11
        }
      ]
    },
    {
      "cell_type": "code",
      "source": [
        "def largest_element(sequence):\n",
        "  largest = sequence[0]\n",
        "\n",
        "  for item in sequence:\n",
        "    if item > largest:\n",
        "      largest = item\n",
        "  return largest"
      ],
      "metadata": {
        "id": "Paww3CX10ZEA"
      },
      "execution_count": 12,
      "outputs": []
    },
    {
      "cell_type": "code",
      "source": [
        "largest_element('ygrvbg')"
      ],
      "metadata": {
        "colab": {
          "base_uri": "https://localhost:8080/",
          "height": 35
        },
        "id": "BFuKWxQo0iwQ",
        "outputId": "3a8921e4-8320-4d2f-aaca-4752589386b2"
      },
      "execution_count": 13,
      "outputs": [
        {
          "output_type": "execute_result",
          "data": {
            "text/plain": [
              "'y'"
            ],
            "application/vnd.google.colaboratory.intrinsic+json": {
              "type": "string"
            }
          },
          "metadata": {},
          "execution_count": 13
        }
      ]
    },
    {
      "cell_type": "code",
      "source": [
        "def square(num):\n",
        "  return num*num"
      ],
      "metadata": {
        "id": "1iq2dJPE0rUK"
      },
      "execution_count": 16,
      "outputs": []
    },
    {
      "cell_type": "code",
      "source": [
        "square(3)"
      ],
      "metadata": {
        "colab": {
          "base_uri": "https://localhost:8080/"
        },
        "id": "_v04wRie0u8q",
        "outputId": "99d0c726-d53c-400d-f997-1b916121a6b3"
      },
      "execution_count": 17,
      "outputs": [
        {
          "output_type": "execute_result",
          "data": {
            "text/plain": [
              "9"
            ]
          },
          "metadata": {},
          "execution_count": 17
        }
      ]
    },
    {
      "cell_type": "code",
      "source": [],
      "metadata": {
        "id": "Gg2fzpVy1q3X"
      },
      "execution_count": null,
      "outputs": []
    }
  ]
}